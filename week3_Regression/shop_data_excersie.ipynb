{
 "cells": [
  {
   "cell_type": "code",
   "execution_count": 36,
   "metadata": {},
   "outputs": [],
   "source": [
    "import pandas as pd \n",
    "import numpy as np\n",
    "from sklearn.preprocessing import StandardScaler\n",
    "from sklearn.decomposition import PCA\n",
    "from sklearn.model_selection import train_test_split\n",
    "from sklearn.preprocessing import LabelEncoder\n",
    "import warnings\n",
    "warnings.filterwarnings('ignore')\n",
    "\n",
    "from sklearn import linear_model\n",
    "from sklearn.metrics import fbeta_score , accuracy_score , recall_score , precision_score\n",
    "from sklearn.metrics import mean_squared_error, r2_score\n",
    "import matplotlib.pyplot as plt \n",
    "%matplotlib inline \n",
    "\n",
    "from time import time\n",
    "from sklearn import svm\n",
    "from sklearn.ensemble import   AdaBoostClassifier\n",
    "from sklearn.tree import DecisionTreeClassifier\n",
    "import xgboost as xgb\n",
    "\n",
    "from sklearn.utils import shuffle\n",
    "import matplotlib.pyplot as plt \n"
   ]
  },
  {
   "cell_type": "code",
   "execution_count": 21,
   "metadata": {},
   "outputs": [],
   "source": [
    "df = pd.read_csv('data_shop2.csv' , sep = ';' , index_col = 0)"
   ]
  },
  {
   "cell_type": "code",
   "execution_count": 22,
   "metadata": {},
   "outputs": [
    {
     "data": {
      "text/html": [
       "<div>\n",
       "<style scoped>\n",
       "    .dataframe tbody tr th:only-of-type {\n",
       "        vertical-align: middle;\n",
       "    }\n",
       "\n",
       "    .dataframe tbody tr th {\n",
       "        vertical-align: top;\n",
       "    }\n",
       "\n",
       "    .dataframe thead th {\n",
       "        text-align: right;\n",
       "    }\n",
       "</style>\n",
       "<table border=\"1\" class=\"dataframe\">\n",
       "  <thead>\n",
       "    <tr style=\"text-align: right;\">\n",
       "      <th></th>\n",
       "      <th>id</th>\n",
       "      <th>class_type</th>\n",
       "      <th>car_type</th>\n",
       "      <th>price</th>\n",
       "      <th>address_zip</th>\n",
       "      <th>first_joined</th>\n",
       "      <th>creation_date</th>\n",
       "      <th>deletion_date</th>\n",
       "      <th>search_number</th>\n",
       "      <th>view_number</th>\n",
       "      <th>days_online</th>\n",
       "      <th>click_through_rate</th>\n",
       "    </tr>\n",
       "  </thead>\n",
       "  <tbody>\n",
       "    <tr>\n",
       "      <th>0</th>\n",
       "      <td>348702726.0</td>\n",
       "      <td>bronze</td>\n",
       "      <td>Volvo</td>\n",
       "      <td>2790.0</td>\n",
       "      <td>3</td>\n",
       "      <td>2014.0</td>\n",
       "      <td>12.07.18</td>\n",
       "      <td>22.08.18</td>\n",
       "      <td>217.3</td>\n",
       "      <td>13.50</td>\n",
       "      <td>NaN</td>\n",
       "      <td>0.041417</td>\n",
       "    </tr>\n",
       "    <tr>\n",
       "      <th>1</th>\n",
       "      <td>363615514.0</td>\n",
       "      <td>bronze</td>\n",
       "      <td>Peugeot</td>\n",
       "      <td>1330.0</td>\n",
       "      <td>4</td>\n",
       "      <td>2014.0</td>\n",
       "      <td>16.11.18</td>\n",
       "      <td>29.12.18</td>\n",
       "      <td>473.7</td>\n",
       "      <td>31.05</td>\n",
       "      <td>NaN</td>\n",
       "      <td>0.043699</td>\n",
       "    </tr>\n",
       "    <tr>\n",
       "      <th>2</th>\n",
       "      <td>363908812.0</td>\n",
       "      <td>bronze</td>\n",
       "      <td>Renault</td>\n",
       "      <td>1770.0</td>\n",
       "      <td>7</td>\n",
       "      <td>2010.0</td>\n",
       "      <td>20.11.18</td>\n",
       "      <td>30.11.18</td>\n",
       "      <td>25.5</td>\n",
       "      <td>2.55</td>\n",
       "      <td>NaN</td>\n",
       "      <td>0.063333</td>\n",
       "    </tr>\n",
       "    <tr>\n",
       "      <th>3</th>\n",
       "      <td>363595390.0</td>\n",
       "      <td>bronze</td>\n",
       "      <td>Audi</td>\n",
       "      <td>2880.0</td>\n",
       "      <td>5</td>\n",
       "      <td>2013.0</td>\n",
       "      <td>16.11.18</td>\n",
       "      <td>29.01.19</td>\n",
       "      <td>81.3</td>\n",
       "      <td>4.35</td>\n",
       "      <td>NaN</td>\n",
       "      <td>0.035670</td>\n",
       "    </tr>\n",
       "    <tr>\n",
       "      <th>4</th>\n",
       "      <td>364646620.0</td>\n",
       "      <td>bronze</td>\n",
       "      <td>Ford</td>\n",
       "      <td>2150.0</td>\n",
       "      <td>1</td>\n",
       "      <td>2009.0</td>\n",
       "      <td>28.11.18</td>\n",
       "      <td>29.12.18</td>\n",
       "      <td>122.4</td>\n",
       "      <td>16.50</td>\n",
       "      <td>NaN</td>\n",
       "      <td>0.089869</td>\n",
       "    </tr>\n",
       "    <tr>\n",
       "      <th>...</th>\n",
       "      <td>...</td>\n",
       "      <td>...</td>\n",
       "      <td>...</td>\n",
       "      <td>...</td>\n",
       "      <td>...</td>\n",
       "      <td>...</td>\n",
       "      <td>...</td>\n",
       "      <td>...</td>\n",
       "      <td>...</td>\n",
       "      <td>...</td>\n",
       "      <td>...</td>\n",
       "      <td>...</td>\n",
       "    </tr>\n",
       "    <tr>\n",
       "      <th>78317</th>\n",
       "      <td>357547191.0</td>\n",
       "      <td>bronze</td>\n",
       "      <td>Mercedes-Benz</td>\n",
       "      <td>11770.0</td>\n",
       "      <td>7</td>\n",
       "      <td>2017.0</td>\n",
       "      <td>08.09.18</td>\n",
       "      <td>12.09.18</td>\n",
       "      <td>32.8</td>\n",
       "      <td>3.90</td>\n",
       "      <td>NaN</td>\n",
       "      <td>0.075305</td>\n",
       "    </tr>\n",
       "    <tr>\n",
       "      <th>78318</th>\n",
       "      <td>361866378.0</td>\n",
       "      <td>bronze</td>\n",
       "      <td>Hyundai</td>\n",
       "      <td>350.0</td>\n",
       "      <td>7</td>\n",
       "      <td>2004.0</td>\n",
       "      <td>28.10.18</td>\n",
       "      <td>21.12.18</td>\n",
       "      <td>160.5</td>\n",
       "      <td>5.85</td>\n",
       "      <td>NaN</td>\n",
       "      <td>0.024299</td>\n",
       "    </tr>\n",
       "    <tr>\n",
       "      <th>78319</th>\n",
       "      <td>360811860.0</td>\n",
       "      <td>bronze</td>\n",
       "      <td>Skoda</td>\n",
       "      <td>2976.0</td>\n",
       "      <td>3</td>\n",
       "      <td>2016.0</td>\n",
       "      <td>16.10.18</td>\n",
       "      <td>27.10.18</td>\n",
       "      <td>55.0</td>\n",
       "      <td>10.95</td>\n",
       "      <td>NaN</td>\n",
       "      <td>0.126091</td>\n",
       "    </tr>\n",
       "    <tr>\n",
       "      <th>78320</th>\n",
       "      <td>351143737.0</td>\n",
       "      <td>bronze</td>\n",
       "      <td>Renault</td>\n",
       "      <td>650.0</td>\n",
       "      <td>4</td>\n",
       "      <td>2009.0</td>\n",
       "      <td>28.07.18</td>\n",
       "      <td>01.10.18</td>\n",
       "      <td>241.8</td>\n",
       "      <td>6.75</td>\n",
       "      <td>NaN</td>\n",
       "      <td>0.017680</td>\n",
       "    </tr>\n",
       "    <tr>\n",
       "      <th>78321</th>\n",
       "      <td>357829828.0</td>\n",
       "      <td>bronze</td>\n",
       "      <td>Audi</td>\n",
       "      <td>1130.0</td>\n",
       "      <td>3</td>\n",
       "      <td>2005.0</td>\n",
       "      <td>12.09.18</td>\n",
       "      <td>12.10.18</td>\n",
       "      <td>160.7</td>\n",
       "      <td>10.95</td>\n",
       "      <td>NaN</td>\n",
       "      <td>0.045426</td>\n",
       "    </tr>\n",
       "  </tbody>\n",
       "</table>\n",
       "<p>78215 rows × 12 columns</p>\n",
       "</div>"
      ],
      "text/plain": [
       "                id class_type       car_type    price  address_zip  \\\n",
       "0      348702726.0     bronze          Volvo   2790.0            3   \n",
       "1      363615514.0     bronze        Peugeot   1330.0            4   \n",
       "2      363908812.0     bronze        Renault   1770.0            7   \n",
       "3      363595390.0     bronze           Audi   2880.0            5   \n",
       "4      364646620.0     bronze           Ford   2150.0            1   \n",
       "...            ...        ...            ...      ...          ...   \n",
       "78317  357547191.0     bronze  Mercedes-Benz  11770.0            7   \n",
       "78318  361866378.0     bronze        Hyundai    350.0            7   \n",
       "78319  360811860.0     bronze          Skoda   2976.0            3   \n",
       "78320  351143737.0     bronze        Renault    650.0            4   \n",
       "78321  357829828.0     bronze           Audi   1130.0            3   \n",
       "\n",
       "       first_joined creation_date deletion_date  search_number  view_number  \\\n",
       "0            2014.0      12.07.18      22.08.18          217.3        13.50   \n",
       "1            2014.0      16.11.18      29.12.18          473.7        31.05   \n",
       "2            2010.0      20.11.18      30.11.18           25.5         2.55   \n",
       "3            2013.0      16.11.18      29.01.19           81.3         4.35   \n",
       "4            2009.0      28.11.18      29.12.18          122.4        16.50   \n",
       "...             ...           ...           ...            ...          ...   \n",
       "78317        2017.0      08.09.18      12.09.18           32.8         3.90   \n",
       "78318        2004.0      28.10.18      21.12.18          160.5         5.85   \n",
       "78319        2016.0      16.10.18      27.10.18           55.0        10.95   \n",
       "78320        2009.0      28.07.18      01.10.18          241.8         6.75   \n",
       "78321        2005.0      12.09.18      12.10.18          160.7        10.95   \n",
       "\n",
       "       days_online  click_through_rate  \n",
       "0              NaN            0.041417  \n",
       "1              NaN            0.043699  \n",
       "2              NaN            0.063333  \n",
       "3              NaN            0.035670  \n",
       "4              NaN            0.089869  \n",
       "...            ...                 ...  \n",
       "78317          NaN            0.075305  \n",
       "78318          NaN            0.024299  \n",
       "78319          NaN            0.126091  \n",
       "78320          NaN            0.017680  \n",
       "78321          NaN            0.045426  \n",
       "\n",
       "[78215 rows x 12 columns]"
      ]
     },
     "execution_count": 22,
     "metadata": {},
     "output_type": "execute_result"
    }
   ],
   "source": [
    "def filter_col(x):\n",
    "    try:\n",
    "        return float(x)\n",
    "    except:\n",
    "        return np.nan\n",
    "df['click_through_rate'] = df['click_through_rate'].map(filter_col)\n",
    "df[~df['click_through_rate'].isnull()]"
   ]
  },
  {
   "cell_type": "code",
   "execution_count": 23,
   "metadata": {},
   "outputs": [],
   "source": [
    "df['creation_date'] = pd.to_datetime(df['creation_date'], format='%d.%m.%y')\n",
    "\n",
    "df['deletion_date'] =  pd.to_datetime(df['deletion_date'], format='%d.%m.%y')\n"
   ]
  },
  {
   "cell_type": "code",
   "execution_count": 24,
   "metadata": {},
   "outputs": [],
   "source": [
    "# calculate the days that an article has been online , is there a warning why ?\n",
    "df['days_online'] = (df['deletion_date']- df['creation_date']).dt.days"
   ]
  },
  {
   "cell_type": "code",
   "execution_count": 25,
   "metadata": {},
   "outputs": [],
   "source": [
    "df.dropna(inplace = True)\n"
   ]
  },
  {
   "cell_type": "code",
   "execution_count": 26,
   "metadata": {},
   "outputs": [
    {
     "data": {
      "text/plain": [
       "array([[<AxesSubplot:title={'center':'id'}>,\n",
       "        <AxesSubplot:title={'center':'price'}>,\n",
       "        <AxesSubplot:title={'center':'address_zip'}>],\n",
       "       [<AxesSubplot:title={'center':'first_joined'}>,\n",
       "        <AxesSubplot:title={'center':'search_number'}>,\n",
       "        <AxesSubplot:title={'center':'view_number'}>],\n",
       "       [<AxesSubplot:title={'center':'days_online'}>,\n",
       "        <AxesSubplot:title={'center':'click_through_rate'}>,\n",
       "        <AxesSubplot:>]], dtype=object)"
      ]
     },
     "execution_count": 26,
     "metadata": {},
     "output_type": "execute_result"
    },
    {
     "data": {
      "image/png": "[encoded data removed]",
      "text/plain": [
       "<Figure size 1440x1080 with 9 Axes>"
      ]
     },
     "metadata": {
      "needs_background": "light"
     },
     "output_type": "display_data"
    }
   ],
   "source": [
    "\n",
    "df.hist(bins=50, figsize=(20,15)) "
   ]
  },
  {
   "cell_type": "code",
   "execution_count": 27,
   "metadata": {},
   "outputs": [],
   "source": [
    "skewed = ['price','search_number','view_number','click_through_rate']\n",
    "\n",
    "features_log_transformed = pd.DataFrame(data = df)\n",
    "features_log_transformed[skewed] = df[skewed].apply(lambda x: np.log(x + 1))\n",
    "\n",
    "\n"
   ]
  },
  {
   "cell_type": "code",
   "execution_count": 28,
   "metadata": {},
   "outputs": [
    {
     "data": {
      "text/html": [
       "<div>\n",
       "<style scoped>\n",
       "    .dataframe tbody tr th:only-of-type {\n",
       "        vertical-align: middle;\n",
       "    }\n",
       "\n",
       "    .dataframe tbody tr th {\n",
       "        vertical-align: top;\n",
       "    }\n",
       "\n",
       "    .dataframe thead th {\n",
       "        text-align: right;\n",
       "    }\n",
       "</style>\n",
       "<table border=\"1\" class=\"dataframe\">\n",
       "  <thead>\n",
       "    <tr style=\"text-align: right;\">\n",
       "      <th></th>\n",
       "      <th>id</th>\n",
       "      <th>class_type</th>\n",
       "      <th>car_type</th>\n",
       "      <th>price</th>\n",
       "      <th>address_zip</th>\n",
       "      <th>first_joined</th>\n",
       "      <th>creation_date</th>\n",
       "      <th>deletion_date</th>\n",
       "      <th>search_number</th>\n",
       "      <th>view_number</th>\n",
       "      <th>days_online</th>\n",
       "      <th>click_through_rate</th>\n",
       "    </tr>\n",
       "  </thead>\n",
       "  <tbody>\n",
       "    <tr>\n",
       "      <th>0</th>\n",
       "      <td>348702726.0</td>\n",
       "      <td>bronze</td>\n",
       "      <td>Volvo</td>\n",
       "      <td>0.357558</td>\n",
       "      <td>-0.693265</td>\n",
       "      <td>0.445267</td>\n",
       "      <td>2018-07-12</td>\n",
       "      <td>2018-08-22</td>\n",
       "      <td>0.649872</td>\n",
       "      <td>0.631598</td>\n",
       "      <td>0.155608</td>\n",
       "      <td>-0.116857</td>\n",
       "    </tr>\n",
       "    <tr>\n",
       "      <th>1</th>\n",
       "      <td>363615514.0</td>\n",
       "      <td>bronze</td>\n",
       "      <td>Peugeot</td>\n",
       "      <td>-0.390025</td>\n",
       "      <td>-0.268537</td>\n",
       "      <td>0.445267</td>\n",
       "      <td>2018-11-16</td>\n",
       "      <td>2018-12-29</td>\n",
       "      <td>1.232693</td>\n",
       "      <td>1.327565</td>\n",
       "      <td>0.217702</td>\n",
       "      <td>-0.060795</td>\n",
       "    </tr>\n",
       "    <tr>\n",
       "      <th>2</th>\n",
       "      <td>363908812.0</td>\n",
       "      <td>bronze</td>\n",
       "      <td>Renault</td>\n",
       "      <td>-0.101667</td>\n",
       "      <td>1.005646</td>\n",
       "      <td>-0.166969</td>\n",
       "      <td>2018-11-20</td>\n",
       "      <td>2018-11-30</td>\n",
       "      <td>-0.932244</td>\n",
       "      <td>-0.603182</td>\n",
       "      <td>-0.806853</td>\n",
       "      <td>0.416750</td>\n",
       "    </tr>\n",
       "    <tr>\n",
       "      <th>3</th>\n",
       "      <td>363595390.0</td>\n",
       "      <td>bronze</td>\n",
       "      <td>Audi</td>\n",
       "      <td>0.389601</td>\n",
       "      <td>0.156191</td>\n",
       "      <td>0.292208</td>\n",
       "      <td>2018-11-16</td>\n",
       "      <td>2019-01-29</td>\n",
       "      <td>-0.082017</td>\n",
       "      <td>-0.243288</td>\n",
       "      <td>1.180162</td>\n",
       "      <td>-0.258644</td>\n",
       "    </tr>\n",
       "    <tr>\n",
       "      <th>4</th>\n",
       "      <td>364646620.0</td>\n",
       "      <td>bronze</td>\n",
       "      <td>Ford</td>\n",
       "      <td>0.094589</td>\n",
       "      <td>-1.542720</td>\n",
       "      <td>-0.320028</td>\n",
       "      <td>2018-11-28</td>\n",
       "      <td>2018-12-29</td>\n",
       "      <td>0.221888</td>\n",
       "      <td>0.796609</td>\n",
       "      <td>-0.154864</td>\n",
       "      <td>1.048315</td>\n",
       "    </tr>\n",
       "  </tbody>\n",
       "</table>\n",
       "</div>"
      ],
      "text/plain": [
       "            id class_type car_type     price  address_zip  first_joined  \\\n",
       "0  348702726.0     bronze    Volvo  0.357558    -0.693265      0.445267   \n",
       "1  363615514.0     bronze  Peugeot -0.390025    -0.268537      0.445267   \n",
       "2  363908812.0     bronze  Renault -0.101667     1.005646     -0.166969   \n",
       "3  363595390.0     bronze     Audi  0.389601     0.156191      0.292208   \n",
       "4  364646620.0     bronze     Ford  0.094589    -1.542720     -0.320028   \n",
       "\n",
       "  creation_date deletion_date  search_number  view_number  days_online  \\\n",
       "0    2018-07-12    2018-08-22       0.649872     0.631598     0.155608   \n",
       "1    2018-11-16    2018-12-29       1.232693     1.327565     0.217702   \n",
       "2    2018-11-20    2018-11-30      -0.932244    -0.603182    -0.806853   \n",
       "3    2018-11-16    2019-01-29      -0.082017    -0.243288     1.180162   \n",
       "4    2018-11-28    2018-12-29       0.221888     0.796609    -0.154864   \n",
       "\n",
       "   click_through_rate  \n",
       "0           -0.116857  \n",
       "1           -0.060795  \n",
       "2            0.416750  \n",
       "3           -0.258644  \n",
       "4            1.048315  "
      ]
     },
     "metadata": {},
     "output_type": "display_data"
    }
   ],
   "source": [
    "# does the data needs scaling ?\n",
    "\n",
    "\n",
    "\n",
    "from sklearn.preprocessing import StandardScaler\n",
    "scaler = StandardScaler()\n",
    "\n",
    "numerical = ['price', 'address_zip', 'first_joined', 'search_number', 'view_number'\n",
    "             ,'days_online','click_through_rate']\n",
    "\n",
    "\n",
    "features_log_minmax_transform = pd.DataFrame(data = features_log_transformed)\n",
    "features_log_minmax_transform[numerical] = scaler.fit_transform(features_log_transformed[numerical])\n",
    "\n",
    "# Show an example of a record with scaling applied\n",
    "display(features_log_minmax_transform.head(n = 5))"
   ]
  },
  {
   "cell_type": "code",
   "execution_count": null,
   "metadata": {},
   "outputs": [],
   "source": []
  },
  {
   "cell_type": "code",
   "execution_count": null,
   "metadata": {},
   "outputs": [],
   "source": []
  },
  {
   "cell_type": "code",
   "execution_count": null,
   "metadata": {},
   "outputs": [],
   "source": []
  },
  {
   "cell_type": "code",
   "execution_count": null,
   "metadata": {},
   "outputs": [],
   "source": []
  },
  {
   "cell_type": "code",
   "execution_count": null,
   "metadata": {},
   "outputs": [],
   "source": []
  },
  {
   "cell_type": "code",
   "execution_count": 29,
   "metadata": {},
   "outputs": [],
   "source": [
    "features_log_minmax_transform['target'] = features_log_minmax_transform['class_type']\n",
    "labelencoder = LabelEncoder()# Assigning numerical values and storing in another column\n",
    "features_log_minmax_transform['target'] = labelencoder.fit_transform(features_log_minmax_transform['class_type'])\n"
   ]
  },
  {
   "cell_type": "code",
   "execution_count": 30,
   "metadata": {},
   "outputs": [],
   "source": [
    "features = ['price', 'address_zip', 'first_joined',\n",
    "            'search_number', 'view_number' ,'days_online','click_through_rate'\n",
    "           ]\n",
    "one_hot = pd.get_dummies(features_log_minmax_transform['car_type'])\n",
    "\n",
    "df_ml = features_log_minmax_transform[features].join(one_hot)"
   ]
  },
  {
   "cell_type": "code",
   "execution_count": 31,
   "metadata": {},
   "outputs": [],
   "source": [
    "df_ml.to_csv('cleaned_data.csv')\n"
   ]
  },
  {
   "cell_type": "markdown",
   "metadata": {},
   "source": [
    "So far we only did preprocessing in the case of regression /linear models it is very important to do scaling and normalizing . "
   ]
  },
  {
   "cell_type": "code",
   "execution_count": 32,
   "metadata": {},
   "outputs": [],
   "source": [
    "plots= df_ml[['search_number','view_number']].sample(n= 500, random_state= 42)\n",
    "X_plots = plots.loc[:, plots.columns != 'view_number']\n",
    "y_plots = plots.loc[:,['view_number']]# Taking the detail_views out of data set\n"
   ]
  },
  {
   "cell_type": "code",
   "execution_count": 33,
   "metadata": {},
   "outputs": [],
   "source": [
    "X = df_ml.loc[:, df_ml.columns != 'view_number']\n",
    "y = df_ml.loc[:,['view_number']]# Taking the detail_views out of data set\n",
    "\n",
    "\n",
    "X_train, X_test, y_train, y_test = train_test_split(X_plots, y_plots, test_size = 0.20, random_state =42)\n"
   ]
  },
  {
   "cell_type": "code",
   "execution_count": 18,
   "metadata": {},
   "outputs": [],
   "source": [
    "# conda install matplotlib\n"
   ]
  },
  {
   "cell_type": "code",
   "execution_count": 37,
   "metadata": {},
   "outputs": [
    {
     "data": {
      "image/png": "[encoded data removed]",
      "text/plain": [
       "<Figure size 432x288 with 1 Axes>"
      ]
     },
     "metadata": {
      "needs_background": "light"
     },
     "output_type": "display_data"
    }
   ],
   "source": [
    "plt.plot(X_plots['search_number'] , y_plots, \"b.\")\n",
    "plt.xlabel(\"$search number$\", fontsize=15)\n",
    "plt.ylabel(\"$view number$\", rotation=90, fontsize=15)\n",
    "plt.show()\n"
   ]
  },
  {
   "cell_type": "code",
   "execution_count": null,
   "metadata": {},
   "outputs": [],
   "source": []
  },
  {
   "cell_type": "code",
   "execution_count": null,
   "metadata": {},
   "outputs": [],
   "source": []
  },
  {
   "cell_type": "code",
   "execution_count": 41,
   "metadata": {},
   "outputs": [
    {
     "data": {
      "text/plain": [
       "LinearRegression(copy_X=True, fit_intercept=True, n_jobs=None,\n",
       "         normalize=False)"
      ]
     },
     "execution_count": 41,
     "metadata": {},
     "output_type": "execute_result"
    }
   ],
   "source": [
    "from sklearn.linear_model import LinearRegression\n",
    "\n",
    "lin_reg = LinearRegression()\n",
    "lin_reg.fit(X_train, y_train)\n"
   ]
  },
  {
   "cell_type": "code",
   "execution_count": 49,
   "metadata": {},
   "outputs": [],
   "source": [
    "y_predict = lin_reg.predict(X_test)"
   ]
  },
  {
   "cell_type": "code",
   "execution_count": null,
   "metadata": {},
   "outputs": [],
   "source": []
  },
  {
   "cell_type": "code",
   "execution_count": 43,
   "metadata": {},
   "outputs": [
    {
     "data": {
      "image/png": "[encoded data removed]",
      "text/plain": [
       "<Figure size 432x288 with 1 Axes>"
      ]
     },
     "metadata": {
      "needs_background": "light"
     },
     "output_type": "display_data"
    }
   ],
   "source": [
    "plt.plot(X_test['search_number'], y_predict, \"r-\", linewidth=2, label=\"Predictions\")\n",
    "plt.plot(X_plots['search_number'],y_plots, \"b.\")\n",
    "plt.xlabel(\"$search number$\", fontsize=15)\n",
    "plt.ylabel(\"$view number$\", rotation=90, fontsize=15)\n",
    "plt.legend(loc=\"upper left\", fontsize=14)\n",
    "#plt.axis([0, 2, 0, 15])\n",
    "#save_fig(\"linear_model_predictions_plot\")\n",
    "plt.show()"
   ]
  },
  {
   "cell_type": "code",
   "execution_count": 44,
   "metadata": {},
   "outputs": [
    {
     "data": {
      "text/plain": [
       "Ridge(alpha=1.0, copy_X=True, fit_intercept=True, max_iter=None,\n",
       "   normalize=False, random_state=None, solver='auto', tol=0.001)"
      ]
     },
     "execution_count": 44,
     "metadata": {},
     "output_type": "execute_result"
    }
   ],
   "source": [
    "from sklearn.linear_model import Ridge\n",
    "ridge_reg = Ridge(alpha=1.0)\n",
    "ridge_reg.fit(X_train, y_train)"
   ]
  },
  {
   "cell_type": "code",
   "execution_count": 47,
   "metadata": {},
   "outputs": [],
   "source": [
    "y_predict_ridge = ridge_reg.predict(X_test)"
   ]
  },
  {
   "cell_type": "code",
   "execution_count": 51,
   "metadata": {},
   "outputs": [
    {
     "data": {
      "image/png": "[encoded data removed]",
      "text/plain": [
       "<Figure size 432x288 with 1 Axes>"
      ]
     },
     "metadata": {
      "needs_background": "light"
     },
     "output_type": "display_data"
    }
   ],
   "source": [
    "plt.plot(X_test['search_number'], y_predict, \"g-\", linewidth=2, label=\"Predictions\")\n",
    "\n",
    "plt.plot(X_test['search_number'], y_predict_ridge, \"rx\", linewidth=2, label=\"Predictions\")\n",
    "plt.plot(X_plots['search_number'],y_plots, \"b.\")\n",
    "plt.xlabel(\"$search number$\", fontsize=15)\n",
    "plt.ylabel(\"$view number$\", rotation=90, fontsize=15)\n",
    "plt.legend(loc=\"upper left\", fontsize=14)\n",
    "#plt.axis([0, 2, 0, 15])\n",
    "#save_fig(\"linear_model_predictions_plot\")\n",
    "plt.show()"
   ]
  },
  {
   "cell_type": "code",
   "execution_count": null,
   "metadata": {},
   "outputs": [],
   "source": []
  },
  {
   "cell_type": "code",
   "execution_count": 55,
   "metadata": {},
   "outputs": [],
   "source": [
    "from sklearn import linear_model\n",
    "lasso_reg = linear_model.Lasso(alpha=0.1)\n"
   ]
  },
  {
   "cell_type": "code",
   "execution_count": 56,
   "metadata": {},
   "outputs": [
    {
     "data": {
      "text/plain": [
       "Lasso(alpha=0.1, copy_X=True, fit_intercept=True, max_iter=1000,\n",
       "   normalize=False, positive=False, precompute=False, random_state=None,\n",
       "   selection='cyclic', tol=0.0001, warm_start=False)"
      ]
     },
     "execution_count": 56,
     "metadata": {},
     "output_type": "execute_result"
    }
   ],
   "source": [
    "lasso_reg.fit(X_train, y_train)\n"
   ]
  },
  {
   "cell_type": "code",
   "execution_count": 58,
   "metadata": {},
   "outputs": [],
   "source": [
    "y_pred_lasso = lasso_reg.predict(X_test)"
   ]
  },
  {
   "cell_type": "code",
   "execution_count": 72,
   "metadata": {},
   "outputs": [],
   "source": [
    "from sklearn.linear_model import ElasticNet\n",
    "el_net_reg= ElasticNet(random_state=0 , alpha=0.1)\n",
    "el_net_reg.fit(X_train, y_train)\n",
    "y_pred_elastic = el_net_reg.predict(X_test)"
   ]
  },
  {
   "cell_type": "code",
   "execution_count": null,
   "metadata": {},
   "outputs": [],
   "source": []
  },
  {
   "cell_type": "code",
   "execution_count": 84,
   "metadata": {},
   "outputs": [
    {
     "data": {
      "image/png": "[encoded data removed]",
      "text/plain": [
       "<Figure size 432x288 with 1 Axes>"
      ]
     },
     "metadata": {
      "needs_background": "light"
     },
     "output_type": "display_data"
    }
   ],
   "source": [
    "plt.plot(X_test['search_number'], y_predict, \"g-+\", linewidth=3, label=\"linear_reg\")\n",
    "plt.plot(X_test['search_number'], y_pred_lasso, \"b--\", linewidth=3, label=\"lasso\")\n",
    "plt.plot(X_test['search_number'], y_pred_elastic, \"mo\", linewidth=3, label=\"elastic\")\n",
    "\n",
    "plt.plot(X_test['search_number'], y_predict_ridge, \"rx\", linewidth=3, label=\"ridge\")\n",
    "plt.plot(X_plots['search_number'],y_plots, \"y.\")\n",
    "plt.xlabel(\"$search number$\", fontsize=15)\n",
    "plt.ylabel(\"$view number$\", rotation=90, fontsize=15)\n",
    "plt.legend(loc=\"upper left\", fontsize=14)\n",
    "#plt.axis([0, 2, 0, 15])\n",
    "#save_fig(\"linear_model_predictions_plot\")\n",
    "plt.show()"
   ]
  },
  {
   "cell_type": "code",
   "execution_count": 61,
   "metadata": {},
   "outputs": [],
   "source": [
    "from sklearn.metrics import r2_score"
   ]
  },
  {
   "cell_type": "code",
   "execution_count": 66,
   "metadata": {},
   "outputs": [
    {
     "data": {
      "text/plain": [
       "'R2 prediction linear reg 0.7836117879278657'"
      ]
     },
     "execution_count": 66,
     "metadata": {},
     "output_type": "execute_result"
    }
   ],
   "source": [
    "\"R2 prediction linear reg {}\".format(r2_score(y_test, y_predict))\n"
   ]
  },
  {
   "cell_type": "code",
   "execution_count": 67,
   "metadata": {},
   "outputs": [
    {
     "data": {
      "text/plain": [
       "'R2 prediction ridge reg 0.7836098557236135'"
      ]
     },
     "execution_count": 67,
     "metadata": {},
     "output_type": "execute_result"
    }
   ],
   "source": [
    "\"R2 prediction ridge reg {}\".format(r2_score(y_test, y_predict_ridge)) "
   ]
  },
  {
   "cell_type": "code",
   "execution_count": 68,
   "metadata": {},
   "outputs": [
    {
     "data": {
      "text/plain": [
       "'R2 prediction lasso reg 0.7728106610584824'"
      ]
     },
     "execution_count": 68,
     "metadata": {},
     "output_type": "execute_result"
    }
   ],
   "source": [
    "\"R2 prediction lasso reg {}\".format(r2_score(y_test, y_pred_lasso)) "
   ]
  },
  {
   "cell_type": "code",
   "execution_count": 74,
   "metadata": {},
   "outputs": [
    {
     "data": {
      "text/plain": [
       "'R2 prediction elastic reg 0.7750176767928758'"
      ]
     },
     "execution_count": 74,
     "metadata": {},
     "output_type": "execute_result"
    }
   ],
   "source": [
    "\"R2 prediction elastic reg {}\".format(r2_score(y_test, y_pred_elastic)) "
   ]
  },
  {
   "cell_type": "code",
   "execution_count": null,
   "metadata": {},
   "outputs": [],
   "source": []
  }
 ],
 "metadata": {
  "kernelspec": {
   "display_name": "Python 3",
   "language": "python",
   "name": "python3"
  },
  "language_info": {
   "codemirror_mode": {
    "name": "ipython",
    "version": 3
   },
   "file_extension": ".py",
   "mimetype": "text/x-python",
   "name": "python",
   "nbconvert_exporter": "python",
   "pygments_lexer": "ipython3",
   "version": "3.6.12"
  }
 },
 "nbformat": 4,
 "nbformat_minor": 4
}
